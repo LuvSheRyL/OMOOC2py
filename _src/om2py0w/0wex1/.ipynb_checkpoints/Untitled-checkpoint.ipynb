{
 "cells": [
  {
   "cell_type": "code",
   "execution_count": 1,
   "metadata": {
    "collapsed": false
   },
   "outputs": [
    {
     "name": "stdout",
     "output_type": "stream",
     "text": [
      "中文测试  \n",
      "关于Sphinx：PHP+Mysql+Sphinx高效的站内搜索引擎搭建详释_百度经验\n",
      "使用 sphinx 制作简洁而又美观的文档\n",
      "Python Notebook简介\n"
     ]
    }
   ],
   "source": [
    "print \"\"\"中文测试  \n",
    "关于Sphinx：PHP+Mysql+Sphinx高效的站内搜索引擎搭建详释_百度经验\n",
    "使用 sphinx 制作简洁而又美观的文档\n",
    "Python Notebook简介\"\"\""
   ]
  },
  {
   "cell_type": "markdown",
   "metadata": {},
   "source": [
    "## 测试\n",
    "\n",
    "### 测试2"
   ]
  }
 ],
 "metadata": {
  "kernelspec": {
   "display_name": "Python 2",
   "language": "python",
   "name": "python2"
  },
  "language_info": {
   "codemirror_mode": {
    "name": "ipython",
    "version": 2
   },
   "file_extension": ".py",
   "mimetype": "text/x-python",
   "name": "python",
   "nbconvert_exporter": "python",
   "pygments_lexer": "ipython2",
   "version": "2.7.10"
  }
 },
 "nbformat": 4,
 "nbformat_minor": 0
}
